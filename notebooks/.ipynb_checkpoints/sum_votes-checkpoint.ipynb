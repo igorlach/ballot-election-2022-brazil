{
 "cells": [
  {
   "cell_type": "markdown",
   "id": "5b56074a",
   "metadata": {},
   "source": [
    "## Count Total Votes for President Check\n",
    "\n",
    "Check total votes for president\n",
    "Check which ballots a candidate had zero votes"
   ]
  },
  {
   "cell_type": "code",
   "execution_count": 1,
   "id": "74e6c986",
   "metadata": {},
   "outputs": [],
   "source": [
    "from pathlib import Path\n",
    "import pandas as pd\n",
    "\n",
    "BASE_DIR = Path(\".\").resolve().parent\n",
    "\n",
    "bu_path = BASE_DIR / \"bu\"\n",
    "ballot_metadata_path = BASE_DIR / \"results_csv\" / \"ballot_metadata\"\n",
    "ballot_votes_path = BASE_DIR / \"results_csv\" / \"ballot_votes\"\n",
    "\n",
    "[ i.name for i in bu_path.iterdir() if i.suffix == '.bu']\n",
    "\n",
    "\n",
    "ballot_files = [ i.name for i in ballot_metadata_path.iterdir() if i.suffix == '.csv']\n",
    "vote_files = [ i.name for i in ballot_votes_path.iterdir() if i.suffix == '.csv']"
   ]
  },
  {
   "cell_type": "code",
   "execution_count": 2,
   "id": "81f62a31",
   "metadata": {},
   "outputs": [],
   "source": [
    "ballot_dfs = [ pd.read_csv(ballot_metadata_path / file) for file in ballot_files]\n",
    "ballot_df = pd.concat(ballot_dfs)\n",
    "\n",
    "ballot_dfs = [ pd.read_csv(ballot_votes_path / file) for file in vote_files]\n",
    "votes_df = pd.concat(ballot_dfs)"
   ]
  },
  {
   "cell_type": "code",
   "execution_count": 3,
   "id": "5a34936f",
   "metadata": {},
   "outputs": [
    {
     "data": {
      "text/plain": [
       "(464401, 6)"
      ]
     },
     "execution_count": 3,
     "metadata": {},
     "output_type": "execute_result"
    }
   ],
   "source": [
    "ballot_df.shape"
   ]
  },
  {
   "cell_type": "code",
   "execution_count": 4,
   "id": "87204cca",
   "metadata": {},
   "outputs": [
    {
     "data": {
      "text/plain": [
       "(2815247, 6)"
      ]
     },
     "execution_count": 4,
     "metadata": {},
     "output_type": "execute_result"
    }
   ],
   "source": [
    "votes_df.shape"
   ]
  },
  {
   "cell_type": "code",
   "execution_count": 5,
   "id": "f735f3a8",
   "metadata": {},
   "outputs": [
    {
     "data": {
      "text/plain": [
       "Index(['ballot_id', 'position', 'vote_type', 'party_code', 'candidate_code',\n",
       "       'qty_vote'],\n",
       "      dtype='object')"
      ]
     },
     "execution_count": 5,
     "metadata": {},
     "output_type": "execute_result"
    }
   ],
   "source": [
    "votes_df.columns"
   ]
  },
  {
   "cell_type": "code",
   "execution_count": 6,
   "id": "618d2e39",
   "metadata": {},
   "outputs": [],
   "source": [
    "votes_with_ballots = pd.merge(votes_df,ballot_df,how=\"left\",on=\"ballot_id\")"
   ]
  },
  {
   "cell_type": "code",
   "execution_count": null,
   "id": "ae6cd850",
   "metadata": {},
   "outputs": [],
   "source": [
    "votes_with_ballots = votes_with_ballots[votes_with_ballots[\"position\"]==\"presidente\"]"
   ]
  },
  {
   "cell_type": "code",
   "execution_count": null,
   "id": "713f8fe5",
   "metadata": {},
   "outputs": [],
   "source": [
    "votes_with_ballots.shape"
   ]
  },
  {
   "cell_type": "code",
   "execution_count": null,
   "id": "60b617a0",
   "metadata": {},
   "outputs": [],
   "source": [
    "votes_with_ballots_nominal = votes_with_ballots[votes_with_ballots[\"vote_type\"]==\"nominal\"]"
   ]
  },
  {
   "cell_type": "code",
   "execution_count": null,
   "id": "6bf11919",
   "metadata": {},
   "outputs": [],
   "source": [
    "votes_with_ballots_nominal.groupby([\"party_code\"])[[\"qty_vote\"]].sum()"
   ]
  },
  {
   "cell_type": "code",
   "execution_count": null,
   "id": "9d439d9a",
   "metadata": {},
   "outputs": [],
   "source": [
    "lula_missing = 60_345_999 - 59_016_829 \n",
    "print(f\"{lula_missing:,d}\")\n",
    "bolsonaro_missing = 58_206_354 - 57_492_231\n",
    "print(f\"{bolsonaro_missing:,d}\")"
   ]
  },
  {
   "cell_type": "code",
   "execution_count": null,
   "id": "3bd58b37",
   "metadata": {},
   "outputs": [],
   "source": [
    "votes_with_ballots_nominal.sort_values(by=\"qty_vote\")"
   ]
  },
  {
   "cell_type": "code",
   "execution_count": null,
   "id": "f37edc8d",
   "metadata": {},
   "outputs": [],
   "source": [
    "# votes_with_ballots_nominal.to_csv(\"total_votes_president.csv\", index=False)"
   ]
  },
  {
   "cell_type": "code",
   "execution_count": null,
   "id": "bb5f8026",
   "metadata": {},
   "outputs": [],
   "source": []
  }
 ],
 "metadata": {
  "kernelspec": {
   "display_name": "Python 3 (ipykernel)",
   "language": "python",
   "name": "python3"
  },
  "language_info": {
   "codemirror_mode": {
    "name": "ipython",
    "version": 3
   },
   "file_extension": ".py",
   "mimetype": "text/x-python",
   "name": "python",
   "nbconvert_exporter": "python",
   "pygments_lexer": "ipython3",
   "version": "3.10.4"
  }
 },
 "nbformat": 4,
 "nbformat_minor": 5
}
