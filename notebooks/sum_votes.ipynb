{
 "cells": [
  {
   "cell_type": "markdown",
   "id": "5b56074a",
   "metadata": {},
   "source": [
    "## Count Total Votes for President Check\n",
    "\n",
    "Check total votes for president\n",
    "Check which ballots a candidate had zero votes"
   ]
  },
  {
   "cell_type": "code",
   "execution_count": 1,
   "id": "74e6c986",
   "metadata": {},
   "outputs": [],
   "source": [
    "from pathlib import Path\n",
    "import pandas as pd\n",
    "\n",
    "BASE_DIR = Path(\".\").resolve().parent\n",
    "\n",
    "bu_path = BASE_DIR / \"bu\"\n",
    "ballot_metadata_path = BASE_DIR / \"results_csv\" / \"ballot_metadata\"\n",
    "ballot_votes_path = BASE_DIR / \"results_csv\" / \"ballot_votes\"\n",
    "\n",
    "[ i.name for i in bu_path.iterdir() if i.suffix == '.bu']\n",
    "\n",
    "\n",
    "ballot_files = [ i.name for i in ballot_metadata_path.iterdir() if i.suffix == '.csv']\n",
    "vote_files = [ i.name for i in ballot_votes_path.iterdir() if i.suffix == '.csv']"
   ]
  },
  {
   "cell_type": "code",
   "execution_count": 2,
   "id": "81f62a31",
   "metadata": {},
   "outputs": [],
   "source": [
    "ballot_dfs = [ pd.read_csv(ballot_metadata_path / file) for file in ballot_files]\n",
    "ballot_df = pd.concat(ballot_dfs)\n",
    "\n",
    "ballot_dfs = [ pd.read_csv(ballot_votes_path / file) for file in vote_files]\n",
    "votes_df = pd.concat(ballot_dfs)"
   ]
  },
  {
   "cell_type": "code",
   "execution_count": 3,
   "id": "5a34936f",
   "metadata": {},
   "outputs": [
    {
     "data": {
      "text/plain": [
       "(464401, 6)"
      ]
     },
     "execution_count": 3,
     "metadata": {},
     "output_type": "execute_result"
    }
   ],
   "source": [
    "ballot_df.shape"
   ]
  },
  {
   "cell_type": "code",
   "execution_count": 4,
   "id": "87204cca",
   "metadata": {},
   "outputs": [
    {
     "data": {
      "text/plain": [
       "(2815247, 6)"
      ]
     },
     "execution_count": 4,
     "metadata": {},
     "output_type": "execute_result"
    }
   ],
   "source": [
    "votes_df.shape"
   ]
  },
  {
   "cell_type": "code",
   "execution_count": 5,
   "id": "f735f3a8",
   "metadata": {},
   "outputs": [
    {
     "data": {
      "text/plain": [
       "Index(['ballot_id', 'position', 'vote_type', 'party_code', 'candidate_code',\n",
       "       'qty_vote'],\n",
       "      dtype='object')"
      ]
     },
     "execution_count": 5,
     "metadata": {},
     "output_type": "execute_result"
    }
   ],
   "source": [
    "votes_df.columns"
   ]
  },
  {
   "cell_type": "code",
   "execution_count": 6,
   "id": "618d2e39",
   "metadata": {},
   "outputs": [],
   "source": [
    "votes_with_ballots = pd.merge(votes_df,ballot_df,how=\"left\",on=\"ballot_id\")"
   ]
  },
  {
   "cell_type": "code",
   "execution_count": 7,
   "id": "ae6cd850",
   "metadata": {},
   "outputs": [],
   "source": [
    "votes_with_ballots = votes_with_ballots[votes_with_ballots[\"position\"]==\"presidente\"]"
   ]
  },
  {
   "cell_type": "code",
   "execution_count": 8,
   "id": "713f8fe5",
   "metadata": {},
   "outputs": [
    {
     "data": {
      "text/plain": [
       "(1820846, 11)"
      ]
     },
     "execution_count": 8,
     "metadata": {},
     "output_type": "execute_result"
    }
   ],
   "source": [
    "votes_with_ballots.shape"
   ]
  },
  {
   "cell_type": "code",
   "execution_count": 9,
   "id": "60b617a0",
   "metadata": {},
   "outputs": [],
   "source": [
    "votes_with_ballots_nominal = votes_with_ballots[votes_with_ballots[\"vote_type\"]==\"nominal\"]"
   ]
  },
  {
   "cell_type": "code",
   "execution_count": 10,
   "id": "6bf11919",
   "metadata": {},
   "outputs": [
    {
     "data": {
      "text/html": [
       "<div>\n",
       "<style scoped>\n",
       "    .dataframe tbody tr th:only-of-type {\n",
       "        vertical-align: middle;\n",
       "    }\n",
       "\n",
       "    .dataframe tbody tr th {\n",
       "        vertical-align: top;\n",
       "    }\n",
       "\n",
       "    .dataframe thead th {\n",
       "        text-align: right;\n",
       "    }\n",
       "</style>\n",
       "<table border=\"1\" class=\"dataframe\">\n",
       "  <thead>\n",
       "    <tr style=\"text-align: right;\">\n",
       "      <th></th>\n",
       "      <th>qty_vote</th>\n",
       "    </tr>\n",
       "    <tr>\n",
       "      <th>party_code</th>\n",
       "      <th></th>\n",
       "    </tr>\n",
       "  </thead>\n",
       "  <tbody>\n",
       "    <tr>\n",
       "      <th>13.0</th>\n",
       "      <td>59016829</td>\n",
       "    </tr>\n",
       "    <tr>\n",
       "      <th>22.0</th>\n",
       "      <td>57492231</td>\n",
       "    </tr>\n",
       "  </tbody>\n",
       "</table>\n",
       "</div>"
      ],
      "text/plain": [
       "            qty_vote\n",
       "party_code          \n",
       "13.0        59016829\n",
       "22.0        57492231"
      ]
     },
     "execution_count": 10,
     "metadata": {},
     "output_type": "execute_result"
    }
   ],
   "source": [
    "votes_with_ballots_nominal.groupby([\"party_code\"])[[\"qty_vote\"]].sum()"
   ]
  },
  {
   "cell_type": "code",
   "execution_count": 11,
   "id": "9d439d9a",
   "metadata": {},
   "outputs": [
    {
     "name": "stdout",
     "output_type": "stream",
     "text": [
      "1,329,170\n",
      "714,123\n"
     ]
    }
   ],
   "source": [
    "lula_missing = 60_345_999 - 59_016_829 \n",
    "print(f\"{lula_missing:,d}\")\n",
    "bolsonaro_missing = 58_206_354 - 57_492_231\n",
    "print(f\"{bolsonaro_missing:,d}\")"
   ]
  },
  {
   "cell_type": "code",
   "execution_count": 12,
   "id": "3bd58b37",
   "metadata": {},
   "outputs": [
    {
     "data": {
      "text/html": [
       "<div>\n",
       "<style scoped>\n",
       "    .dataframe tbody tr th:only-of-type {\n",
       "        vertical-align: middle;\n",
       "    }\n",
       "\n",
       "    .dataframe tbody tr th {\n",
       "        vertical-align: top;\n",
       "    }\n",
       "\n",
       "    .dataframe thead th {\n",
       "        text-align: right;\n",
       "    }\n",
       "</style>\n",
       "<table border=\"1\" class=\"dataframe\">\n",
       "  <thead>\n",
       "    <tr style=\"text-align: right;\">\n",
       "      <th></th>\n",
       "      <th>ballot_id</th>\n",
       "      <th>position</th>\n",
       "      <th>vote_type</th>\n",
       "      <th>party_code</th>\n",
       "      <th>candidate_code</th>\n",
       "      <th>qty_vote</th>\n",
       "      <th>state_code</th>\n",
       "      <th>council_name</th>\n",
       "      <th>file_name</th>\n",
       "      <th>zone</th>\n",
       "      <th>section_cd</th>\n",
       "    </tr>\n",
       "  </thead>\n",
       "  <tbody>\n",
       "    <tr>\n",
       "      <th>1811822</th>\n",
       "      <td>1202500050200</td>\n",
       "      <td>presidente</td>\n",
       "      <td>nominal</td>\n",
       "      <td>22.0</td>\n",
       "      <td>22.0</td>\n",
       "      <td>1</td>\n",
       "      <td>PI</td>\n",
       "      <td>SÃO JOÃO DA VARJOTA</td>\n",
       "      <td>o00407-1202500050200.bu</td>\n",
       "      <td>5</td>\n",
       "      <td>200</td>\n",
       "    </tr>\n",
       "    <tr>\n",
       "      <th>424386</th>\n",
       "      <td>227500070046</td>\n",
       "      <td>presidente</td>\n",
       "      <td>nominal</td>\n",
       "      <td>22.0</td>\n",
       "      <td>22.0</td>\n",
       "      <td>1</td>\n",
       "      <td>AM</td>\n",
       "      <td>CODAJÁS</td>\n",
       "      <td>o00407-0227500070046.bu</td>\n",
       "      <td>7</td>\n",
       "      <td>46</td>\n",
       "    </tr>\n",
       "    <tr>\n",
       "      <th>2418929</th>\n",
       "      <td>3537801930116</td>\n",
       "      <td>presidente</td>\n",
       "      <td>nominal</td>\n",
       "      <td>22.0</td>\n",
       "      <td>22.0</td>\n",
       "      <td>1</td>\n",
       "      <td>BA</td>\n",
       "      <td>IAÇU</td>\n",
       "      <td>o00407-3537801930116.bu</td>\n",
       "      <td>193</td>\n",
       "      <td>116</td>\n",
       "    </tr>\n",
       "    <tr>\n",
       "      <th>2678967</th>\n",
       "      <td>863000450101</td>\n",
       "      <td>presidente</td>\n",
       "      <td>nominal</td>\n",
       "      <td>22.0</td>\n",
       "      <td>22.0</td>\n",
       "      <td>1</td>\n",
       "      <td>MA</td>\n",
       "      <td>PENALVA</td>\n",
       "      <td>o00407-0863000450101.bu</td>\n",
       "      <td>45</td>\n",
       "      <td>101</td>\n",
       "    </tr>\n",
       "    <tr>\n",
       "      <th>1804161</th>\n",
       "      <td>1040500740105</td>\n",
       "      <td>presidente</td>\n",
       "      <td>nominal</td>\n",
       "      <td>22.0</td>\n",
       "      <td>22.0</td>\n",
       "      <td>1</td>\n",
       "      <td>PI</td>\n",
       "      <td>PASSAGEM FRANCA DO PIAUÍ</td>\n",
       "      <td>o00407-1040500740105.bu</td>\n",
       "      <td>74</td>\n",
       "      <td>105</td>\n",
       "    </tr>\n",
       "    <tr>\n",
       "      <th>...</th>\n",
       "      <td>...</td>\n",
       "      <td>...</td>\n",
       "      <td>...</td>\n",
       "      <td>...</td>\n",
       "      <td>...</td>\n",
       "      <td>...</td>\n",
       "      <td>...</td>\n",
       "      <td>...</td>\n",
       "      <td>...</td>\n",
       "      <td>...</td>\n",
       "      <td>...</td>\n",
       "    </tr>\n",
       "    <tr>\n",
       "      <th>223729</th>\n",
       "      <td>2966100013108</td>\n",
       "      <td>presidente</td>\n",
       "      <td>nominal</td>\n",
       "      <td>13.0</td>\n",
       "      <td>13.0</td>\n",
       "      <td>512</td>\n",
       "      <td>ZZ</td>\n",
       "      <td>DUBLIN</td>\n",
       "      <td>o00407-2966100013108.bu</td>\n",
       "      <td>1</td>\n",
       "      <td>3108</td>\n",
       "    </tr>\n",
       "    <tr>\n",
       "      <th>225976</th>\n",
       "      <td>3045700013199</td>\n",
       "      <td>presidente</td>\n",
       "      <td>nominal</td>\n",
       "      <td>13.0</td>\n",
       "      <td>13.0</td>\n",
       "      <td>522</td>\n",
       "      <td>ZZ</td>\n",
       "      <td>AMSTERDÃ</td>\n",
       "      <td>o00407-3045700013199.bu</td>\n",
       "      <td>1</td>\n",
       "      <td>3199</td>\n",
       "    </tr>\n",
       "    <tr>\n",
       "      <th>225968</th>\n",
       "      <td>3045700013125</td>\n",
       "      <td>presidente</td>\n",
       "      <td>nominal</td>\n",
       "      <td>13.0</td>\n",
       "      <td>13.0</td>\n",
       "      <td>525</td>\n",
       "      <td>ZZ</td>\n",
       "      <td>AMSTERDÃ</td>\n",
       "      <td>o00407-3045700013125.bu</td>\n",
       "      <td>1</td>\n",
       "      <td>3125</td>\n",
       "    </tr>\n",
       "    <tr>\n",
       "      <th>224521</th>\n",
       "      <td>2938600011714</td>\n",
       "      <td>presidente</td>\n",
       "      <td>nominal</td>\n",
       "      <td>13.0</td>\n",
       "      <td>13.0</td>\n",
       "      <td>530</td>\n",
       "      <td>ZZ</td>\n",
       "      <td>BERLIM</td>\n",
       "      <td>o00407-2938600011714.bu</td>\n",
       "      <td>1</td>\n",
       "      <td>1714</td>\n",
       "    </tr>\n",
       "    <tr>\n",
       "      <th>225981</th>\n",
       "      <td>3046500010489</td>\n",
       "      <td>presidente</td>\n",
       "      <td>nominal</td>\n",
       "      <td>22.0</td>\n",
       "      <td>22.0</td>\n",
       "      <td>549</td>\n",
       "      <td>ZZ</td>\n",
       "      <td>SALTO DEL GUAIRÁ</td>\n",
       "      <td>o00407-3046500010489.bu</td>\n",
       "      <td>1</td>\n",
       "      <td>489</td>\n",
       "    </tr>\n",
       "  </tbody>\n",
       "</table>\n",
       "<p>928467 rows × 11 columns</p>\n",
       "</div>"
      ],
      "text/plain": [
       "             ballot_id    position vote_type  party_code  candidate_code  \\\n",
       "1811822  1202500050200  presidente   nominal        22.0            22.0   \n",
       "424386    227500070046  presidente   nominal        22.0            22.0   \n",
       "2418929  3537801930116  presidente   nominal        22.0            22.0   \n",
       "2678967   863000450101  presidente   nominal        22.0            22.0   \n",
       "1804161  1040500740105  presidente   nominal        22.0            22.0   \n",
       "...                ...         ...       ...         ...             ...   \n",
       "223729   2966100013108  presidente   nominal        13.0            13.0   \n",
       "225976   3045700013199  presidente   nominal        13.0            13.0   \n",
       "225968   3045700013125  presidente   nominal        13.0            13.0   \n",
       "224521   2938600011714  presidente   nominal        13.0            13.0   \n",
       "225981   3046500010489  presidente   nominal        22.0            22.0   \n",
       "\n",
       "         qty_vote state_code              council_name  \\\n",
       "1811822         1         PI       SÃO JOÃO DA VARJOTA   \n",
       "424386          1         AM                   CODAJÁS   \n",
       "2418929         1         BA                      IAÇU   \n",
       "2678967         1         MA                   PENALVA   \n",
       "1804161         1         PI  PASSAGEM FRANCA DO PIAUÍ   \n",
       "...           ...        ...                       ...   \n",
       "223729        512         ZZ                    DUBLIN   \n",
       "225976        522         ZZ                  AMSTERDÃ   \n",
       "225968        525         ZZ                  AMSTERDÃ   \n",
       "224521        530         ZZ                    BERLIM   \n",
       "225981        549         ZZ          SALTO DEL GUAIRÁ   \n",
       "\n",
       "                       file_name  zone  section_cd  \n",
       "1811822  o00407-1202500050200.bu     5         200  \n",
       "424386   o00407-0227500070046.bu     7          46  \n",
       "2418929  o00407-3537801930116.bu   193         116  \n",
       "2678967  o00407-0863000450101.bu    45         101  \n",
       "1804161  o00407-1040500740105.bu    74         105  \n",
       "...                          ...   ...         ...  \n",
       "223729   o00407-2966100013108.bu     1        3108  \n",
       "225976   o00407-3045700013199.bu     1        3199  \n",
       "225968   o00407-3045700013125.bu     1        3125  \n",
       "224521   o00407-2938600011714.bu     1        1714  \n",
       "225981   o00407-3046500010489.bu     1         489  \n",
       "\n",
       "[928467 rows x 11 columns]"
      ]
     },
     "execution_count": 12,
     "metadata": {},
     "output_type": "execute_result"
    }
   ],
   "source": [
    "votes_with_ballots_nominal.sort_values(by=\"qty_vote\")"
   ]
  },
  {
   "cell_type": "code",
   "execution_count": 13,
   "id": "f37edc8d",
   "metadata": {},
   "outputs": [],
   "source": [
    "# votes_with_ballots_nominal.to_csv(\"total_votes_president.csv\", index=False)"
   ]
  },
  {
   "cell_type": "code",
   "execution_count": 23,
   "id": "bb5f8026",
   "metadata": {},
   "outputs": [],
   "source": [
    "ballot_count = votes_with_ballots_nominal.groupby(\"ballot_id\")[[\"position\"]].count()"
   ]
  },
  {
   "cell_type": "code",
   "execution_count": 27,
   "id": "8020983d",
   "metadata": {},
   "outputs": [],
   "source": [
    "single_vote_sessions = ballot_count[ballot_count[\"position\"]==1]"
   ]
  },
  {
   "cell_type": "code",
   "execution_count": 29,
   "id": "d0f2a447",
   "metadata": {},
   "outputs": [],
   "source": [
    "votes_with_single_winner = pd.merge(votes_with_ballots_nominal,single_vote_sessions, on=\"ballot_id\")"
   ]
  },
  {
   "cell_type": "code",
   "execution_count": 31,
   "id": "3f51b679",
   "metadata": {},
   "outputs": [
    {
     "data": {
      "text/plain": [
       "13.0    141\n",
       "22.0      4\n",
       "Name: party_code, dtype: int64"
      ]
     },
     "execution_count": 31,
     "metadata": {},
     "output_type": "execute_result"
    }
   ],
   "source": [
    "votes_with_single_winner[\"party_code\"].value_counts()"
   ]
  },
  {
   "cell_type": "code",
   "execution_count": 32,
   "id": "5ef6b08c",
   "metadata": {},
   "outputs": [],
   "source": [
    "votes_with_single_winner.to_csv(\"section_with_single_winner.csv\", index=False)"
   ]
  },
  {
   "cell_type": "code",
   "execution_count": null,
   "id": "5b755bbc",
   "metadata": {},
   "outputs": [],
   "source": []
  }
 ],
 "metadata": {
  "kernelspec": {
   "display_name": "Python 3 (ipykernel)",
   "language": "python",
   "name": "python3"
  },
  "language_info": {
   "codemirror_mode": {
    "name": "ipython",
    "version": 3
   },
   "file_extension": ".py",
   "mimetype": "text/x-python",
   "name": "python",
   "nbconvert_exporter": "python",
   "pygments_lexer": "ipython3",
   "version": "3.10.4"
  }
 },
 "nbformat": 4,
 "nbformat_minor": 5
}
